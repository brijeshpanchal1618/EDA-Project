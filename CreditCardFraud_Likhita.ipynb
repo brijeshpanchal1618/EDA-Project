{
  "nbformat": 4,
  "nbformat_minor": 0,
  "metadata": {
    "colab": {
      "name": "CreditCardFraud_Likhita.ipynb",
      "provenance": [],
      "authorship_tag": "ABX9TyMxBiB6jAXhCDJDvoRk/5X9",
      "include_colab_link": true
    },
    "kernelspec": {
      "name": "python3",
      "display_name": "Python 3"
    },
    "language_info": {
      "name": "python"
    }
  },
  "cells": [
    {
      "cell_type": "markdown",
      "metadata": {
        "id": "view-in-github",
        "colab_type": "text"
      },
      "source": [
        "<a href=\"https://colab.research.google.com/github/brijeshpanchal1618/EDA-Project/blob/likhita-work/CreditCardFraud_Likhita.ipynb\" target=\"_parent\"><img src=\"https://colab.research.google.com/assets/colab-badge.svg\" alt=\"Open In Colab\"/></a>"
      ]
    },
    {
      "cell_type": "code",
      "execution_count": null,
      "metadata": {
        "id": "l8Zp3Yc5z89y"
      },
      "outputs": [],
      "source": [
        "# This is Likhita's branch"
      ]
    }
  ]
}